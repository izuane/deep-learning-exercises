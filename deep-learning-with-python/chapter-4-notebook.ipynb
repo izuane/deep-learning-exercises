{
 "cells": [
  {
   "cell_type": "markdown",
   "id": "8cd5249d-1c67-43ee-a0aa-f62324acbd22",
   "metadata": {},
   "source": [
    "# 4.1 Binary Classification"
   ]
  },
  {
   "cell_type": "code",
   "execution_count": 106,
   "id": "40eba13b-9527-4388-91df-5e35d767640d",
   "metadata": {},
   "outputs": [],
   "source": [
    "from tensorflow.keras.datasets import imdb\n",
    "import numpy as np\n",
    "from tensorflow import keras\n",
    "from tensorflow.keras import layers\n",
    "import matplotlib.pyplot as plt"
   ]
  },
  {
   "cell_type": "code",
   "execution_count": 107,
   "id": "e042b486-984b-46d2-9a1a-008a98146c0a",
   "metadata": {},
   "outputs": [],
   "source": [
    "(train_data, train_labels), (test_data, test_labels) = imdb.load_data(num_words=10000)"
   ]
  },
  {
   "cell_type": "code",
   "execution_count": 108,
   "id": "f8ff54a3-cf6b-4d27-b928-160fbbf4221a",
   "metadata": {},
   "outputs": [
    {
     "name": "stdout",
     "output_type": "stream",
     "text": [
      "[1, 14, 22, 16, 43, 530, 973, 1622, 1385, 65, 458, 4468, 66, 3941, 4, 173, 36, 256, 5, 25, 100, 43, 838, 112, 50, 670, 2, 9, 35, 480, 284, 5, 150, 4, 172, 112, 167, 2, 336, 385, 39, 4, 172, 4536, 1111, 17, 546, 38, 13, 447, 4, 192, 50, 16, 6, 147, 2025, 19, 14, 22, 4, 1920, 4613, 469, 4, 22, 71, 87, 12, 16, 43, 530, 38, 76, 15, 13, 1247, 4, 22, 17, 515, 17, 12, 16, 626, 18, 2, 5, 62, 386, 12, 8, 316, 8, 106, 5, 4, 2223, 5244, 16, 480, 66, 3785, 33, 4, 130, 12, 16, 38, 619, 5, 25, 124, 51, 36, 135, 48, 25, 1415, 33, 6, 22, 12, 215, 28, 77, 52, 5, 14, 407, 16, 82, 2, 8, 4, 107, 117, 5952, 15, 256, 4, 2, 7, 3766, 5, 723, 36, 71, 43, 530, 476, 26, 400, 317, 46, 7, 4, 2, 1029, 13, 104, 88, 4, 381, 15, 297, 98, 32, 2071, 56, 26, 141, 6, 194, 7486, 18, 4, 226, 22, 21, 134, 476, 26, 480, 5, 144, 30, 5535, 18, 51, 36, 28, 224, 92, 25, 104, 4, 226, 65, 16, 38, 1334, 88, 12, 16, 283, 5, 16, 4472, 113, 103, 32, 15, 16, 5345, 19, 178, 32]\n",
      "1\n"
     ]
    },
    {
     "data": {
      "text/plain": [
       "9999"
      ]
     },
     "execution_count": 108,
     "metadata": {},
     "output_type": "execute_result"
    }
   ],
   "source": [
    "# A review, where each word has been encoded as an integer\n",
    "print(train_data[0])\n",
    "\n",
    "# Whether a particular review is \"positive\" (i.e. 1) or \"negative\" (i.e. 0)\n",
    "print(train_labels[0])\n",
    "\n",
    "# No review will exceed 10,000 words because we specified this with num_words=10000 in previous cell\n",
    "max([max(review) for review in train_data])"
   ]
  },
  {
   "cell_type": "markdown",
   "id": "aed5e2f2-f12a-43e7-b953-fe1e7e8a6b47",
   "metadata": {},
   "source": [
    "## 4.1.2"
   ]
  },
  {
   "cell_type": "code",
   "execution_count": 109,
   "id": "beb6696e-ed90-4cbd-b50b-ec4adbe4fcbe",
   "metadata": {},
   "outputs": [],
   "source": [
    "# dictionary mapping words to integer index\n",
    "word_index = imdb.get_word_index()"
   ]
  },
  {
   "cell_type": "code",
   "execution_count": 110,
   "id": "d217aeb3-db51-4997-9e75-1ab71fdca91c",
   "metadata": {},
   "outputs": [
    {
     "name": "stdout",
     "output_type": "stream",
     "text": [
      "? this film was just brilliant casting location scenery story direction everyone's really suited the part they played and you could just imagine being there robert ? is an amazing actor and now the same being director ? father came from the same scottish island as myself so i loved the fact there was a real connection with this film the witty remarks throughout the film were great it was just brilliant so much that i bought the film as soon as it was released for ? and would recommend it to everyone to watch and the fly fishing was amazing really cried at the end it was so sad and you know what they say if you cry at a film it must have been good and this definitely was also ? to the two little boy's that played the ? of norman and paul they were just brilliant children are often left out of the ? list i think because the stars that play them all grown up are such a big profile for the whole film but these children are amazing and should be praised for what they have done don't you think the whole story was so lovely because it was true and was someone's life after all that was shared with us all\n"
     ]
    }
   ],
   "source": [
    "# dictionary mapping integers to words\n",
    "reverse_word_index = dict([(value, key) for (key, value) in word_index.items()])\n",
    "\n",
    "# Offset by 3 because 0, 1, 2 are reserved for \"padding\", \"start of sequence\" and \"unknown\"\n",
    "decoded_review = \" \".join([reverse_word_index.get(i - 3, \"?\") for i in train_data[0]])\n",
    "print(decoded_review)"
   ]
  },
  {
   "cell_type": "markdown",
   "id": "8bd41afe-f487-4c2a-b407-91bb319cfb1a",
   "metadata": {},
   "source": [
    "Vectorising the data use multi-hot encoding"
   ]
  },
  {
   "cell_type": "code",
   "execution_count": 111,
   "id": "d1bbf549-4faf-4684-b3cd-b010adc06d06",
   "metadata": {},
   "outputs": [
    {
     "name": "stdout",
     "output_type": "stream",
     "text": [
      "[0. 1. 1. ... 0. 0. 0.]\n",
      "1\n",
      "1.0\n"
     ]
    }
   ],
   "source": [
    "def vectorise_sequences(sequences, dimension=10000):\n",
    "    results = np.zeros((len(sequences), dimension))\n",
    "    for i, sequence in enumerate(sequences):\n",
    "        for j in sequence:\n",
    "            results[i, j] = 1\n",
    "    return results\n",
    "\n",
    "x_train = vectorise_sequences(train_data)\n",
    "x_test = vectorise_sequences(test_data)\n",
    "\n",
    "print(x_train[0])\n",
    "\n",
    "# Also vectorise the labels. Easy since they're already 0 or 1\n",
    "y_train = np.asarray(train_labels).astype(\"float32\")\n",
    "print(train_labels[0])\n",
    "print(y_train[0])\n",
    "\n",
    "y_test = np.asarray(test_labels).astype(\"float32\")"
   ]
  },
  {
   "cell_type": "markdown",
   "id": "0888ce27-fb21-41d1-97b8-7b906aa101bb",
   "metadata": {},
   "source": [
    "## 4.1.3"
   ]
  },
  {
   "cell_type": "markdown",
   "id": "d563387b-0b9c-42e9-ab91-aae30833ffc5",
   "metadata": {},
   "source": [
    "* Our input data are vectors\n",
    "* Our outputs are scalar labels (1s and 0s)\n",
    "\n",
    "A fully-connected (or `Dense`ly connected) network of layers with `relu` activations will work well here.\n",
    "\n",
    "We now need to decide:\n",
    "* How many layers to use. We will use 2 \"hidden\" or intermediate layers\n",
    "* How many units to choose for each layer. We will use 16 units in each hidden layer, and 1 output unit"
   ]
  },
  {
   "cell_type": "code",
   "execution_count": 113,
   "id": "fa3f1e44-045a-4a94-af27-c0f6c7e9f35a",
   "metadata": {},
   "outputs": [],
   "source": [
    "model = keras.Sequential([\n",
    "    layers.Dense(units=16, activation=\"relu\"),\n",
    "    layers.Dense(units=16, activation=\"relu\"),\n",
    "    layers.Dense(units=1, activation=\"sigmoid\")\n",
    "])"
   ]
  },
  {
   "cell_type": "markdown",
   "id": "4702fad0-de53-4246-8eab-c43e22c23064",
   "metadata": {},
   "source": [
    "* Having 16 units in first hidden layers, means that the weight matrix $W$ will have shape `(input_dimension, 16)`\n",
    "* The dot product with $W$ will project the input data onto a 16-dimensional representation space, before the bias vector `b` is added and `relu` is applied.\n",
    "* More units means a higher dimensional representation space. In general, this allows the model to learn more complex representations.\n",
    "* The sigmoid function in the final layers enables the network to output a probability. In this case, how likely a sample is to have the target \"1\": i.e. how likely a review is to be positive.\n",
    "\n",
    "A few more modelling decisions:\n",
    "* Loss: we will use the `binary_crossentropy` loss. This is usually the best choice when dealing with models that output probabilities\n",
    "* Crossentropy: This comes from information theory and measures the distance between probability distributions. In our case, it measures the distance between our ground-truth distribution and our predictions"
   ]
  },
  {
   "cell_type": "code",
   "execution_count": 114,
   "id": "af2acc9e-631d-4f39-92bc-a6baf742fe22",
   "metadata": {},
   "outputs": [],
   "source": [
    "model.compile(optimizer=\"rmsprop\",\n",
    "              loss=\"binary_crossentropy\",\n",
    "              metrics=[\"accuracy\"])"
   ]
  },
  {
   "cell_type": "markdown",
   "id": "83fc77ef-4ce9-4aaa-8ea4-153ceafdfc7a",
   "metadata": {},
   "source": [
    "## 4.1.4"
   ]
  },
  {
   "cell_type": "code",
   "execution_count": 115,
   "id": "51b94c08-32c4-47ae-8075-5aa13f313a3f",
   "metadata": {},
   "outputs": [],
   "source": [
    "x_val = x_train[:10000]\n",
    "partial_x_train = x_train[10000:]\n",
    "y_val = y_train[:10000]\n",
    "partial_y_train = y_train[10000:]"
   ]
  },
  {
   "cell_type": "code",
   "execution_count": 116,
   "id": "9dc7526d-3da8-4215-b743-942997962c60",
   "metadata": {},
   "outputs": [
    {
     "name": "stdout",
     "output_type": "stream",
     "text": [
      "Epoch 1/20\n",
      "30/30 [==============================] - 1s 36ms/step - loss: 0.5623 - accuracy: 0.7559 - val_loss: 0.4393 - val_accuracy: 0.8524\n",
      "Epoch 2/20\n",
      "30/30 [==============================] - 0s 7ms/step - loss: 0.3356 - accuracy: 0.8971 - val_loss: 0.3179 - val_accuracy: 0.8865\n",
      "Epoch 3/20\n",
      "30/30 [==============================] - 0s 7ms/step - loss: 0.2390 - accuracy: 0.9266 - val_loss: 0.2989 - val_accuracy: 0.8830\n",
      "Epoch 4/20\n",
      "30/30 [==============================] - 0s 6ms/step - loss: 0.1839 - accuracy: 0.9422 - val_loss: 0.2763 - val_accuracy: 0.8919\n",
      "Epoch 5/20\n",
      "30/30 [==============================] - 0s 6ms/step - loss: 0.1486 - accuracy: 0.9529 - val_loss: 0.2782 - val_accuracy: 0.8915\n",
      "Epoch 6/20\n",
      "30/30 [==============================] - 0s 6ms/step - loss: 0.1171 - accuracy: 0.9662 - val_loss: 0.2978 - val_accuracy: 0.8860\n",
      "Epoch 7/20\n",
      "30/30 [==============================] - 0s 6ms/step - loss: 0.0978 - accuracy: 0.9715 - val_loss: 0.3080 - val_accuracy: 0.8840\n",
      "Epoch 8/20\n",
      "30/30 [==============================] - 0s 7ms/step - loss: 0.0798 - accuracy: 0.9775 - val_loss: 0.3269 - val_accuracy: 0.8841\n",
      "Epoch 9/20\n",
      "30/30 [==============================] - 0s 7ms/step - loss: 0.0613 - accuracy: 0.9858 - val_loss: 0.3795 - val_accuracy: 0.8730\n",
      "Epoch 10/20\n",
      "30/30 [==============================] - 0s 7ms/step - loss: 0.0538 - accuracy: 0.9870 - val_loss: 0.3786 - val_accuracy: 0.8804\n",
      "Epoch 11/20\n",
      "30/30 [==============================] - 0s 6ms/step - loss: 0.0382 - accuracy: 0.9925 - val_loss: 0.4104 - val_accuracy: 0.8753\n",
      "Epoch 12/20\n",
      "30/30 [==============================] - 0s 7ms/step - loss: 0.0316 - accuracy: 0.9936 - val_loss: 0.4340 - val_accuracy: 0.8746\n",
      "Epoch 13/20\n",
      "30/30 [==============================] - 0s 7ms/step - loss: 0.0248 - accuracy: 0.9954 - val_loss: 0.4684 - val_accuracy: 0.8745\n",
      "Epoch 14/20\n",
      "30/30 [==============================] - 0s 7ms/step - loss: 0.0184 - accuracy: 0.9970 - val_loss: 0.4957 - val_accuracy: 0.8732\n",
      "Epoch 15/20\n",
      "30/30 [==============================] - 0s 7ms/step - loss: 0.0148 - accuracy: 0.9975 - val_loss: 0.5230 - val_accuracy: 0.8728\n",
      "Epoch 16/20\n",
      "30/30 [==============================] - 0s 7ms/step - loss: 0.0106 - accuracy: 0.9991 - val_loss: 0.5564 - val_accuracy: 0.8710\n",
      "Epoch 17/20\n",
      "30/30 [==============================] - 0s 7ms/step - loss: 0.0060 - accuracy: 0.9997 - val_loss: 0.6008 - val_accuracy: 0.8703\n",
      "Epoch 18/20\n",
      "30/30 [==============================] - 0s 7ms/step - loss: 0.0103 - accuracy: 0.9977 - val_loss: 0.6312 - val_accuracy: 0.8700\n",
      "Epoch 19/20\n",
      "30/30 [==============================] - 0s 7ms/step - loss: 0.0032 - accuracy: 0.9999 - val_loss: 0.6717 - val_accuracy: 0.8683\n",
      "Epoch 20/20\n",
      "30/30 [==============================] - 0s 7ms/step - loss: 0.0064 - accuracy: 0.9984 - val_loss: 0.6981 - val_accuracy: 0.8678\n"
     ]
    }
   ],
   "source": [
    "history = model.fit(partial_x_train,\n",
    "                    partial_y_train,\n",
    "                    epochs=20,\n",
    "                    batch_size=512,\n",
    "                    validation_data=(x_val, y_val))"
   ]
  },
  {
   "cell_type": "code",
   "execution_count": 118,
   "id": "bac7bbac-e74f-4ccd-9b72-826b2c4e473f",
   "metadata": {},
   "outputs": [
    {
     "data": {
      "image/png": "[encoded data removed]",
      "text/plain": [
       "<Figure size 640x480 with 1 Axes>"
      ]
     },
     "metadata": {},
     "output_type": "display_data"
    }
   ],
   "source": [
    "history_dict = history.history\n",
    "\n",
    "loss_values = history_dict[\"loss\"]\n",
    "val_loss_values = history_dict[\"val_loss\"]\n",
    "epochs = range(1, len(loss_values) + 1)\n",
    "plt.plot(epochs, loss_values, \"bo\", label=\"Training loss\")\n",
    "plt.plot(epochs, val_loss_values, \"b\", label=\"Validation loss\")\n",
    "plt.title(\"Training and validation loss\")\n",
    "plt.xlabel(\"Epochs\")\n",
    "plt.ylabel(\"Loss\")\n",
    "plt.legend()\n",
    "plt.show()"
   ]
  },
  {
   "cell_type": "code",
   "execution_count": 119,
   "id": "5228a38f-0ee2-4aa2-8a99-9890ef60ae69",
   "metadata": {},
   "outputs": [
    {
     "data": {
      "image/png": "[encoded data removed]",
      "text/plain": [
       "<Figure size 640x480 with 1 Axes>"
      ]
     },
     "metadata": {},
     "output_type": "display_data"
    }
   ],
   "source": [
    "plt.clf()\n",
    "acc = history_dict[\"accuracy\"]\n",
    "val_acc = history_dict[\"val_accuracy\"]\n",
    "plt.plot(epochs, acc, \"bo\", label=\"Training acc\")\n",
    "plt.plot(epochs, val_acc, \"b\", label=\"Validation acc\")\n",
    "plt.title(\"Training and validation accuracy\")\n",
    "plt.xlabel(\"Epochs\")\n",
    "plt.ylabel(\"Accuracy\")\n",
    "plt.legend()\n",
    "plt.show()"
   ]
  },
  {
   "cell_type": "markdown",
   "id": "f076822a-789a-4cd8-b029-33c712e1ef6c",
   "metadata": {},
   "source": [
    "Train and test a new model from scratch"
   ]
  },
  {
   "cell_type": "code",
   "execution_count": 121,
   "id": "c3a00616-fc34-48e3-8b5b-b73e1e1786ce",
   "metadata": {},
   "outputs": [
    {
     "name": "stdout",
     "output_type": "stream",
     "text": [
      "Epoch 1/4\n",
      "49/49 [==============================] - 1s 7ms/step - loss: 0.4717 - accuracy: 0.8246\n",
      "Epoch 2/4\n",
      "49/49 [==============================] - 0s 5ms/step - loss: 0.2705 - accuracy: 0.9094\n",
      "Epoch 3/4\n",
      "49/49 [==============================] - 0s 5ms/step - loss: 0.2053 - accuracy: 0.9279\n",
      "Epoch 4/4\n",
      "49/49 [==============================] - 0s 4ms/step - loss: 0.1727 - accuracy: 0.9394\n"
     ]
    },
    {
     "data": {
      "text/plain": [
       "<keras.callbacks.History at 0x16734ae20>"
      ]
     },
     "execution_count": 121,
     "metadata": {},
     "output_type": "execute_result"
    }
   ],
   "source": [
    "model = keras.Sequential([\n",
    "    layers.Dense(units=16, activation=\"relu\"),\n",
    "    layers.Dense(units=16, activation=\"relu\"),\n",
    "    layers.Dense(units=1, activation=\"sigmoid\")\n",
    "])\n",
    "\n",
    "model.compile(optimizer=\"rmsprop\",\n",
    "              loss=\"binary_crossentropy\",\n",
    "              metrics=[\"accuracy\"])\n",
    "\n",
    "model.fit(x_train, y_train, epochs=4, batch_size=512)"
   ]
  },
  {
   "cell_type": "code",
   "execution_count": 122,
   "id": "e919c8ef-6274-48d6-865d-bf61be8fb0bc",
   "metadata": {},
   "outputs": [
    {
     "name": "stdout",
     "output_type": "stream",
     "text": [
      "782/782 [==============================] - 1s 763us/step - loss: 0.2920 - accuracy: 0.8846\n"
     ]
    }
   ],
   "source": [
    "results = model.evaluate(x_test, y_test)"
   ]
  },
  {
   "cell_type": "markdown",
   "id": "129f0c80-f9eb-4948-9c92-3388c6cc8bc1",
   "metadata": {},
   "source": [
    "## 4.1.5"
   ]
  },
  {
   "cell_type": "code",
   "execution_count": 123,
   "id": "5ab28f0c-caef-4eb1-9b42-70e39497a656",
   "metadata": {},
   "outputs": [
    {
     "name": "stdout",
     "output_type": "stream",
     "text": [
      "782/782 [==============================] - 1s 658us/step\n",
      "[[0.21309178]\n",
      " [0.9999255 ]\n",
      " [0.78359836]\n",
      " ...\n",
      " [0.13113463]\n",
      " [0.07434634]\n",
      " [0.6094322 ]]\n"
     ]
    }
   ],
   "source": [
    "# This outputs probability that each review is positive (close to 1) or negative (close to 0)\n",
    "predictions = model.predict(x_test)\n",
    "print(predictions)"
   ]
  },
  {
   "cell_type": "markdown",
   "id": "7a2722e2-a3d3-493d-aa24-ce7a2b02491c",
   "metadata": {},
   "source": [
    "# 4.2 Single-label Multiclass Classification"
   ]
  },
  {
   "cell_type": "code",
   "execution_count": 147,
   "id": "084b505e-4985-4300-9936-7c7055c7f95a",
   "metadata": {},
   "outputs": [],
   "source": [
    "from tensorflow.keras.datasets import reuters\n",
    "from tensorflow.keras.utils import to_categorical\n",
    "import copy"
   ]
  },
  {
   "cell_type": "markdown",
   "id": "fe15a2a3-53f9-4b5d-b809-912250fa607d",
   "metadata": {},
   "source": [
    "## 4.2.1"
   ]
  },
  {
   "cell_type": "code",
   "execution_count": 125,
   "id": "4bbe5ba5-4482-4ae5-a4fd-03eafe9d375a",
   "metadata": {},
   "outputs": [
    {
     "name": "stdout",
     "output_type": "stream",
     "text": [
      "(8982,)\n",
      "(2246,)\n",
      "[1, 245, 273, 207, 156, 53, 74, 160, 26, 14, 46, 296, 26, 39, 74, 2979, 3554, 14, 46, 4689, 4329, 86, 61, 3499, 4795, 14, 61, 451, 4329, 17, 12]\n"
     ]
    }
   ],
   "source": [
    "(train_data, train_labels), (test_data, test_labels) = reuters.load_data(num_words=10000)\n",
    "print(train_data.shape)\n",
    "print(test_data.shape)\n",
    "print(train_data[10])"
   ]
  },
  {
   "cell_type": "code",
   "execution_count": 126,
   "id": "433490af-6987-4f12-b16f-bb470a0d389a",
   "metadata": {},
   "outputs": [],
   "source": [
    "word_index = reuters.get_word_index()"
   ]
  },
  {
   "cell_type": "code",
   "execution_count": 127,
   "id": "f8b08826-9db9-4a1f-b5cd-e55bf78093ef",
   "metadata": {},
   "outputs": [
    {
     "name": "stdout",
     "output_type": "stream",
     "text": [
      "? ? ? said as a result of its december acquisition of space co it expects earnings per share in 1987 of 1 15 to 1 30 dlrs per share up from 70 cts in 1986 the company said pretax net should rise to nine to 10 mln dlrs from six mln dlrs in 1986 and rental operation revenues to 19 to 22 mln dlrs from 12 5 mln dlrs it said cash flow per share this year should be 2 50 to three dlrs reuter 3\n",
      "3\n"
     ]
    }
   ],
   "source": [
    "reverse_word_index = dict([(value, key) for (key, value) in word_index.items()])\n",
    "\n",
    "# Indices offset by 3 because 0, 1 and 2 are reserved for \"padding\", \"start of sequence\" and \"unknown\"\n",
    "decoded_newswire = \" \".join([reverse_word_index.get(i - 3, \"?\") for i in train_data[0]])\n",
    "print(decoded_newswire)\n",
    "\n",
    "# Possible labels: 0 to 45. Labels indicate a particular topic index\n",
    "print(train_labels[10])"
   ]
  },
  {
   "cell_type": "markdown",
   "id": "45266584-c12a-4615-91c0-925e61ba1280",
   "metadata": {},
   "source": [
    "## 4.2.2"
   ]
  },
  {
   "cell_type": "code",
   "execution_count": 132,
   "id": "52979498-5243-4160-b402-e827960ff7cb",
   "metadata": {},
   "outputs": [],
   "source": [
    "# Vectorise the data, reusing code from section 4.1\n",
    "x_train = vectorise_sequences(train_data)\n",
    "x_test = vectorise_sequences(test_data)\n",
    "\n",
    "# Vectorise train labels using one hot (i.e. categorical) encoding\n",
    "def to_one_hot(labels, dimension=46):\n",
    "    results = np.zeros((len(labels), dimension))\n",
    "    for i, label in enumerate(labels):\n",
    "        results[i, label] = 1\n",
    "    return results\n",
    "\n",
    "y_train = to_one_hot(train_labels)\n",
    "y_test = to_one_hot(test_labels)\n",
    "\n",
    "# Alternatively, use keras built-in one hot encoder:\n",
    "y_train = to_categorical(train_labels)\n",
    "y_test = to_categorical(test_labels)"
   ]
  },
  {
   "cell_type": "markdown",
   "id": "1b2635fe-ce32-4211-9995-edff141b8843",
   "metadata": {},
   "source": [
    "In 4.1 we used hidden layers with 16 hidden units (i.e. 16-dimensional hidden/intermediate layers). In this example, we are trying to classify 46 classes, not just 2 classes as in 4.1. Hence, we will need more hidden units in order to avoid layer's \"losing\" information.\n",
    "\n",
    "Note: information that is \"lost\" (i.e. unable to be represented due to not enough hidden units/dimensions), is permanently lost and deeper layers cannot recreate the lost information.\n",
    "\n",
    "Thus, we use 64 hidden units"
   ]
  },
  {
   "cell_type": "code",
   "execution_count": 134,
   "id": "4289036e-967f-4e5a-9137-09d80aefe13a",
   "metadata": {},
   "outputs": [],
   "source": [
    "model = keras.Sequential([\n",
    "    layers.Dense(units=64, activation=\"relu\"),\n",
    "    layers.Dense(units=64, activation=\"relu\"),\n",
    "    layers.Dense(units=46, activation=\"softmax\")\n",
    "])"
   ]
  },
  {
   "cell_type": "markdown",
   "id": "47776836-8d12-42fc-ae70-3b68b6c11e6e",
   "metadata": {},
   "source": [
    "* The output layer has 46 hidden units (i.e. dimensions). Hence each entry this output vector encodes a particular output class.\n",
    "* The `softmax` activation. The `softmax` function is a generalisation of the `sigmoid` function, to multiple classes.\n",
    "* When we used sigmoid for the 2-class case, for a given sample the model would output a scalar `p` that denotes the probability that that sample would belong to class 1. Observer that `1 - p` would give us the probability of the sample for class 0.\n",
    "* However, with `softmax` for a given sample the model now returns an 46-dimensional output vector, `output`, where `output[i]` is the probability of the sample belonging to the `i`-th class.\n",
    "* And, `sum(output) = 1`, since it is a probability distribution\n",
    "* The best loss function to use is then `categorical_crossentropy`, no longer `binary_crossentropy`"
   ]
  },
  {
   "cell_type": "code",
   "execution_count": 135,
   "id": "4b6044e7-64ce-45e3-a80f-3949fac77543",
   "metadata": {},
   "outputs": [],
   "source": [
    "model.compile(optimizer=\"rmsprop\",\n",
    "              loss=\"categorical_crossentropy\",\n",
    "              metrics=[\"accuracy\"])"
   ]
  },
  {
   "cell_type": "markdown",
   "id": "a3c5adfe-8078-40bf-b5b1-565c98d3ce7d",
   "metadata": {},
   "source": [
    "## 4.2.4"
   ]
  },
  {
   "cell_type": "code",
   "execution_count": 136,
   "id": "1e5f50e6-aecf-454b-974e-fb4510f3d98f",
   "metadata": {},
   "outputs": [],
   "source": [
    "x_val = x_train[:1000]\n",
    "partial_x_train = x_train[1000:]\n",
    "y_val = y_train[:1000]\n",
    "partial_y_train = y_train[1000:]"
   ]
  },
  {
   "cell_type": "code",
   "execution_count": 137,
   "id": "8558222a-e7f7-4f2e-9ee7-e13a2add1b52",
   "metadata": {},
   "outputs": [
    {
     "name": "stdout",
     "output_type": "stream",
     "text": [
      "Epoch 1/20\n",
      "250/250 [==============================] - 1s 3ms/step - loss: 1.4206 - accuracy: 0.6907 - val_loss: 1.0400 - val_accuracy: 0.7780\n",
      "Epoch 2/20\n",
      "250/250 [==============================] - 1s 3ms/step - loss: 0.7395 - accuracy: 0.8339 - val_loss: 0.9013 - val_accuracy: 0.7990\n",
      "Epoch 3/20\n",
      "250/250 [==============================] - 1s 3ms/step - loss: 0.4685 - accuracy: 0.8961 - val_loss: 0.8669 - val_accuracy: 0.8270\n",
      "Epoch 4/20\n",
      "250/250 [==============================] - 1s 3ms/step - loss: 0.3256 - accuracy: 0.9270 - val_loss: 0.9188 - val_accuracy: 0.8210\n",
      "Epoch 5/20\n",
      "250/250 [==============================] - 1s 3ms/step - loss: 0.2518 - accuracy: 0.9442 - val_loss: 1.0245 - val_accuracy: 0.8140\n",
      "Epoch 6/20\n",
      "250/250 [==============================] - 1s 3ms/step - loss: 0.2129 - accuracy: 0.9509 - val_loss: 1.1538 - val_accuracy: 0.8090\n",
      "Epoch 7/20\n",
      "250/250 [==============================] - 1s 3ms/step - loss: 0.1876 - accuracy: 0.9543 - val_loss: 1.1899 - val_accuracy: 0.8070\n",
      "Epoch 8/20\n",
      "250/250 [==============================] - 1s 3ms/step - loss: 0.1734 - accuracy: 0.9541 - val_loss: 1.1468 - val_accuracy: 0.8040\n",
      "Epoch 9/20\n",
      "250/250 [==============================] - 1s 3ms/step - loss: 0.1632 - accuracy: 0.9544 - val_loss: 1.2769 - val_accuracy: 0.8010\n",
      "Epoch 10/20\n",
      "250/250 [==============================] - 1s 3ms/step - loss: 0.1544 - accuracy: 0.9549 - val_loss: 1.3284 - val_accuracy: 0.8080\n",
      "Epoch 11/20\n",
      "250/250 [==============================] - 1s 3ms/step - loss: 0.1448 - accuracy: 0.9569 - val_loss: 1.4787 - val_accuracy: 0.7980\n",
      "Epoch 12/20\n",
      "250/250 [==============================] - 1s 3ms/step - loss: 0.1347 - accuracy: 0.9560 - val_loss: 1.5530 - val_accuracy: 0.7980\n",
      "Epoch 13/20\n",
      "250/250 [==============================] - 1s 3ms/step - loss: 0.1325 - accuracy: 0.9582 - val_loss: 1.5547 - val_accuracy: 0.7900\n",
      "Epoch 14/20\n",
      "250/250 [==============================] - 1s 3ms/step - loss: 0.1274 - accuracy: 0.9582 - val_loss: 1.7307 - val_accuracy: 0.7950\n",
      "Epoch 15/20\n",
      "250/250 [==============================] - 1s 3ms/step - loss: 0.1221 - accuracy: 0.9583 - val_loss: 1.9539 - val_accuracy: 0.7960\n",
      "Epoch 16/20\n",
      "250/250 [==============================] - 1s 3ms/step - loss: 0.1219 - accuracy: 0.9588 - val_loss: 1.8081 - val_accuracy: 0.7910\n",
      "Epoch 17/20\n",
      "250/250 [==============================] - 1s 3ms/step - loss: 0.1149 - accuracy: 0.9590 - val_loss: 1.9062 - val_accuracy: 0.7960\n",
      "Epoch 18/20\n",
      "250/250 [==============================] - 1s 3ms/step - loss: 0.1125 - accuracy: 0.9583 - val_loss: 2.1272 - val_accuracy: 0.7910\n",
      "Epoch 19/20\n",
      "250/250 [==============================] - 1s 3ms/step - loss: 0.1111 - accuracy: 0.9597 - val_loss: 2.1698 - val_accuracy: 0.7770\n",
      "Epoch 20/20\n",
      "250/250 [==============================] - 1s 3ms/step - loss: 0.1095 - accuracy: 0.9592 - val_loss: 2.2269 - val_accuracy: 0.7890\n"
     ]
    }
   ],
   "source": [
    "history = model.fit(partial_x_train, partial_y_train, epochs=20, validation_data=(x_val, y_val))"
   ]
  },
  {
   "cell_type": "code",
   "execution_count": 138,
   "id": "b54d148f-bf86-4cf9-955d-b8921f663509",
   "metadata": {},
   "outputs": [
    {
     "data": {
      "image/png": "[encoded data removed]",
      "text/plain": [
       "<Figure size 640x480 with 1 Axes>"
      ]
     },
     "metadata": {},
     "output_type": "display_data"
    }
   ],
   "source": [
    "loss = history.history[\"loss\"]\n",
    "val_loss = history.history[\"val_loss\"]\n",
    "epochs = range(1, len(loss) + 1)\n",
    "plt.plot(epochs, loss, \"bo\", label=\"Training loss\")\n",
    "plt.plot(epochs, val_loss, \"b\", label=\"Validation loss\")\n",
    "plt.title(\"Training and validation loss\")\n",
    "plt.xlabel(\"Epochs\")\n",
    "plt.ylabel(\"Loss\")\n",
    "plt.legend()\n",
    "plt.show()"
   ]
  },
  {
   "cell_type": "code",
   "execution_count": 139,
   "id": "ff33e36b-eaa1-432d-b6d3-343680cd69ca",
   "metadata": {},
   "outputs": [
    {
     "data": {
      "image/png": "[encoded data removed]",
      "text/plain": [
       "<Figure size 640x480 with 1 Axes>"
      ]
     },
     "metadata": {},
     "output_type": "display_data"
    }
   ],
   "source": [
    "plt.clf()\n",
    "\n",
    "acc = history.history[\"accuracy\"]\n",
    "val_acc = history.history[\"val_accuracy\"]\n",
    "epochs = range(1, len(loss) + 1)\n",
    "plt.plot(epochs, acc, \"bo\", label=\"Training accuracy\")\n",
    "plt.plot(epochs, val_acc, \"b\", label=\"Validation accuracy\")\n",
    "plt.title(\"Training and validation accuracy\")\n",
    "plt.xlabel(\"Epochs\")\n",
    "plt.ylabel(\"Accuracy\")\n",
    "plt.legend()\n",
    "plt.show()"
   ]
  },
  {
   "cell_type": "markdown",
   "id": "72d1d05b-0028-4c3b-a788-d9b83953c886",
   "metadata": {},
   "source": [
    "Overfitting occurs after around the ninth epoch. Let's train a new model for 9 epochs."
   ]
  },
  {
   "cell_type": "code",
   "execution_count": 142,
   "id": "7ba525f0-98cd-479f-a652-3aea0a95d124",
   "metadata": {},
   "outputs": [],
   "source": [
    "model = keras.Sequential([\n",
    "    layers.Dense(units=64, activation=\"relu\"),\n",
    "    layers.Dense(units=64, activation=\"relu\"),\n",
    "    layers.Dense(units=46, activation=\"softmax\")\n",
    "])"
   ]
  },
  {
   "cell_type": "code",
   "execution_count": 145,
   "id": "2f841970-9b71-4ea7-9939-9fedfedb9bec",
   "metadata": {},
   "outputs": [
    {
     "name": "stdout",
     "output_type": "stream",
     "text": [
      "Epoch 1/9\n",
      "18/18 [==============================] - 1s 10ms/step - loss: 2.6440 - accuracy: 0.5367\n",
      "Epoch 2/9\n",
      "18/18 [==============================] - 0s 10ms/step - loss: 1.3827 - accuracy: 0.7126\n",
      "Epoch 3/9\n",
      "18/18 [==============================] - 0s 9ms/step - loss: 1.0027 - accuracy: 0.7846\n",
      "Epoch 4/9\n",
      "18/18 [==============================] - 0s 10ms/step - loss: 0.7750 - accuracy: 0.8363\n",
      "Epoch 5/9\n",
      "18/18 [==============================] - 0s 10ms/step - loss: 0.6151 - accuracy: 0.8739\n",
      "Epoch 6/9\n",
      "18/18 [==============================] - 0s 10ms/step - loss: 0.4903 - accuracy: 0.8994\n",
      "Epoch 7/9\n",
      "18/18 [==============================] - 0s 10ms/step - loss: 0.3990 - accuracy: 0.9176\n",
      "Epoch 8/9\n",
      "18/18 [==============================] - 0s 10ms/step - loss: 0.3298 - accuracy: 0.9299\n",
      "Epoch 9/9\n",
      "18/18 [==============================] - 0s 9ms/step - loss: 0.2756 - accuracy: 0.9391\n"
     ]
    },
    {
     "data": {
      "text/plain": [
       "<keras.callbacks.History at 0x16a6f4970>"
      ]
     },
     "execution_count": 145,
     "metadata": {},
     "output_type": "execute_result"
    }
   ],
   "source": [
    "model.compile(optimizer=\"rmsprop\",\n",
    "                loss=\"categorical_crossentropy\",\n",
    "                metrics=[\"accuracy\"])\n",
    "\n",
    "model.fit(x_train, y_train, epochs=9, batch_size=512)"
   ]
  },
  {
   "cell_type": "code",
   "execution_count": 146,
   "id": "f81488d1-1909-41f0-aec0-fa96c8d9cecd",
   "metadata": {},
   "outputs": [
    {
     "name": "stdout",
     "output_type": "stream",
     "text": [
      "71/71 [==============================] - 0s 771us/step - loss: 0.9576 - accuracy: 0.7947\n",
      "[0.9575568437576294, 0.7947462201118469]\n"
     ]
    }
   ],
   "source": [
    "results = model.evaluate(x_test, y_test)\n",
    "print(results)"
   ]
  },
  {
   "cell_type": "markdown",
   "id": "55005aaf-d81c-43da-85a2-e1f4bdb5f246",
   "metadata": {},
   "source": [
    "Random 46-class classifier baseline"
   ]
  },
  {
   "cell_type": "code",
   "execution_count": 148,
   "id": "b73da6fe-3737-424d-a052-a97e34fbfc24",
   "metadata": {},
   "outputs": [
    {
     "name": "stdout",
     "output_type": "stream",
     "text": [
      "0.18788958147818344\n"
     ]
    }
   ],
   "source": [
    "test_labels_copy = copy.copy(test_labels)\n",
    "\n",
    "# perform random shuffle\n",
    "np.random.shuffle(test_labels_copy)\n",
    "\n",
    "hits_array = np.array(test_labels) == np.array(test_labels_copy)\n",
    "print(hits_array.mean())"
   ]
  },
  {
   "cell_type": "markdown",
   "id": "9b457856-e213-4232-8fc6-723d42c8f8be",
   "metadata": {},
   "source": [
    "So, a random classifer would be about 19% accurate. Our neural network was 80% accurate!"
   ]
  },
  {
   "cell_type": "markdown",
   "id": "a08144c2-1c0b-4cd9-9f2e-a6bbedea5a23",
   "metadata": {},
   "source": [
    "## 4.2.5"
   ]
  },
  {
   "cell_type": "code",
   "execution_count": 149,
   "id": "bcd60f4f-3288-4547-8cfe-8a6f5104aa1f",
   "metadata": {},
   "outputs": [
    {
     "name": "stdout",
     "output_type": "stream",
     "text": [
      "71/71 [==============================] - 0s 965us/step\n"
     ]
    }
   ],
   "source": [
    "predictions = model.predict(x_test)"
   ]
  },
  {
   "cell_type": "markdown",
   "id": "716458aa-769e-4afa-b41f-71c95088c25b",
   "metadata": {},
   "source": [
    "Each entry in `predictions` is a vector of length 46, that sum to 1 (up to floating-point rounding). Thus they form a probability distribution."
   ]
  },
  {
   "cell_type": "code",
   "execution_count": 160,
   "id": "2b822fa9-f638-4b68-9255-f95113a40245",
   "metadata": {},
   "outputs": [
    {
     "name": "stdout",
     "output_type": "stream",
     "text": [
      "(2246, 46)\n",
      "(46,)\n",
      "0.9999999\n"
     ]
    }
   ],
   "source": [
    "print(predictions.shape)\n",
    "print(predictions[0].shape)\n",
    "print(np.sum(predictions[0]))"
   ]
  },
  {
   "cell_type": "markdown",
   "id": "03ccfd2b-0891-458a-a2dd-8579d329fd27",
   "metadata": {},
   "source": [
    "The model predicts the fourth entry (i.e. index 3) as being the highest probability class for the $0$-th sample:"
   ]
  },
  {
   "cell_type": "code",
   "execution_count": 164,
   "id": "544797d9-b2d8-4a56-be95-2647781a55d5",
   "metadata": {},
   "outputs": [
    {
     "name": "stdout",
     "output_type": "stream",
     "text": [
      "[5.20550275e-05 1.91964078e-04 2.11657571e-05 6.57015741e-01\n",
      " 3.31222713e-01 3.41700797e-05 9.62556624e-06 5.71172568e-05\n",
      " 1.69198308e-03 5.04106574e-04 2.76346946e-05 1.74770795e-03\n",
      " 2.59149179e-04 4.90882303e-06 4.12349109e-05 2.22018825e-05\n",
      " 5.69931697e-04 7.13804679e-04 3.01687960e-05 8.50811251e-04\n",
      " 1.32467784e-03 1.10138394e-03 5.67936368e-05 2.31953585e-04\n",
      " 3.18202037e-05 2.20645466e-04 1.70015846e-05 1.25403685e-05\n",
      " 6.66828419e-05 1.50768625e-04 4.87529978e-05 2.83895206e-04\n",
      " 1.05373583e-04 3.63595200e-06 1.35162816e-04 2.15204236e-05\n",
      " 5.06108801e-04 8.19401794e-06 2.48168872e-05 2.29703379e-04\n",
      " 4.14129454e-06 2.05689488e-04 8.75658807e-05 4.27661980e-05\n",
      " 1.19539379e-06 8.94819095e-06]\n",
      "0.65701574\n",
      "3\n"
     ]
    }
   ],
   "source": [
    "print(predictions[0])\n",
    "print(np.max(predictions[0]))\n",
    "print(np.argmax(predictions[0]))"
   ]
  },
  {
   "cell_type": "markdown",
   "id": "b7fc956b-6798-4dc2-8561-5c72b48cc73e",
   "metadata": {},
   "source": [
    "## 4.2.6"
   ]
  },
  {
   "cell_type": "markdown",
   "id": "0799b270-e8b8-4f86-892b-594742579c30",
   "metadata": {},
   "source": [
    "Rather than encoding the labels using one-hot encoding, we could have kept them integers and just cast them as integer tensors:"
   ]
  },
  {
   "cell_type": "code",
   "execution_count": 165,
   "id": "52e4ca5c-5e3c-42aa-a70d-e5518b974f55",
   "metadata": {},
   "outputs": [],
   "source": [
    "y_train = np.array(train_labels)\n",
    "y_test = np.array(test_labels)"
   ]
  },
  {
   "cell_type": "markdown",
   "id": "8b8ebd0f-1e4b-4987-af1a-e0c1701fce2a",
   "metadata": {},
   "source": [
    "But, then we would have to use the `sparse_categorical_crossentropy` loss instead, which is still cross entropy but with a different interface:"
   ]
  },
  {
   "cell_type": "code",
   "execution_count": 166,
   "id": "58fd9199-a918-49c9-ae28-405e030b3420",
   "metadata": {},
   "outputs": [],
   "source": [
    "model.compile(optimizer=\"rmsprop\",\n",
    "              loss=\"sparse_categorical_crossentropy\",\n",
    "              metrics=[\"accuracy\"])"
   ]
  },
  {
   "cell_type": "markdown",
   "id": "4184fbed-9355-4d71-9ba2-297d58a67df5",
   "metadata": {},
   "source": [
    "## 4.2.7"
   ]
  },
  {
   "cell_type": "markdown",
   "id": "66eab94c-bb53-47b3-82b1-cf71de0416ee",
   "metadata": {},
   "source": [
    "In general we should avoid having many hidden layers with fewer units than the output layer. This is precisely why when we had 46 output units, we used 64 hidden units in each hidden layer"
   ]
  },
  {
   "cell_type": "markdown",
   "id": "5e8c1a8d-52b2-4467-ad94-e903805bc01f",
   "metadata": {},
   "source": [
    "# 4.3 Regression"
   ]
  },
  {
   "cell_type": "code",
   "execution_count": 167,
   "id": "4a678291-dcc3-43c8-ae2e-d0cc53a47442",
   "metadata": {},
   "outputs": [],
   "source": [
    "from tensorflow.keras.datasets import boston_housing"
   ]
  },
  {
   "cell_type": "markdown",
   "id": "9d208e42-a05d-4f60-8c96-ecd2e8747b22",
   "metadata": {},
   "source": [
    "## 4.3.1"
   ]
  },
  {
   "cell_type": "code",
   "execution_count": 170,
   "id": "c93e2f40-a790-488e-83e9-102e69aca5da",
   "metadata": {},
   "outputs": [],
   "source": [
    "(train_data, train_targets), (test_data, test_targets) = (boston_housing.load_data())"
   ]
  },
  {
   "cell_type": "code",
   "execution_count": 173,
   "id": "2af20900-a458-45ba-b9a4-fe8e4c0f98b4",
   "metadata": {},
   "outputs": [
    {
     "name": "stdout",
     "output_type": "stream",
     "text": [
      "(404, 13)\n",
      "(102, 13)\n",
      "[15.2 42.3 50.  21.1 17.7 18.5 11.3 15.6 15.6 14.4 12.1 17.9 23.1 19.9\n",
      " 15.7  8.8 50.  22.5 24.1 27.5 10.9 30.8 32.9 24.  18.5 13.3 22.9 34.7\n",
      " 16.6 17.5 22.3 16.1 14.9 23.1 34.9 25.  13.9 13.1 20.4 20.  15.2 24.7\n",
      " 22.2 16.7 12.7 15.6 18.4 21.  30.1 15.1 18.7  9.6 31.5 24.8 19.1 22.\n",
      " 14.5 11.  32.  29.4 20.3 24.4 14.6 19.5 14.1 14.3 15.6 10.5  6.3 19.3\n",
      " 19.3 13.4 36.4 17.8 13.5 16.5  8.3 14.3 16.  13.4 28.6 43.5 20.2 22.\n",
      " 23.  20.7 12.5 48.5 14.6 13.4 23.7 50.  21.7 39.8 38.7 22.2 34.9 22.5\n",
      " 31.1 28.7 46.  41.7 21.  26.6 15.  24.4 13.3 21.2 11.7 21.7 19.4 50.\n",
      " 22.8 19.7 24.7 36.2 14.2 18.9 18.3 20.6 24.6 18.2  8.7 44.  10.4 13.2\n",
      " 21.2 37.  30.7 22.9 20.  19.3 31.7 32.  23.1 18.8 10.9 50.  19.6  5.\n",
      " 14.4 19.8 13.8 19.6 23.9 24.5 25.  19.9 17.2 24.6 13.5 26.6 21.4 11.9\n",
      " 22.6 19.6  8.5 23.7 23.1 22.4 20.5 23.6 18.4 35.2 23.1 27.9 20.6 23.7\n",
      " 28.  13.6 27.1 23.6 20.6 18.2 21.7 17.1  8.4 25.3 13.8 22.2 18.4 20.7\n",
      " 31.6 30.5 20.3  8.8 19.2 19.4 23.1 23.  14.8 48.8 22.6 33.4 21.1 13.6\n",
      " 32.2 13.1 23.4 18.9 23.9 11.8 23.3 22.8 19.6 16.7 13.4 22.2 20.4 21.8\n",
      " 26.4 14.9 24.1 23.8 12.3 29.1 21.  19.5 23.3 23.8 17.8 11.5 21.7 19.9\n",
      " 25.  33.4 28.5 21.4 24.3 27.5 33.1 16.2 23.3 48.3 22.9 22.8 13.1 12.7\n",
      " 22.6 15.  15.3 10.5 24.  18.5 21.7 19.5 33.2 23.2  5.  19.1 12.7 22.3\n",
      " 10.2 13.9 16.3 17.  20.1 29.9 17.2 37.3 45.4 17.8 23.2 29.  22.  18.\n",
      " 17.4 34.6 20.1 25.  15.6 24.8 28.2 21.2 21.4 23.8 31.  26.2 17.4 37.9\n",
      " 17.5 20.   8.3 23.9  8.4 13.8  7.2 11.7 17.1 21.6 50.  16.1 20.4 20.6\n",
      " 21.4 20.6 36.5  8.5 24.8 10.8 21.9 17.3 18.9 36.2 14.9 18.2 33.3 21.8\n",
      " 19.7 31.6 24.8 19.4 22.8  7.5 44.8 16.8 18.7 50.  50.  19.5 20.1 50.\n",
      " 17.2 20.8 19.3 41.3 20.4 20.5 13.8 16.5 23.9 20.6 31.5 23.3 16.8 14.\n",
      " 33.8 36.1 12.8 18.3 18.7 19.1 29.  30.1 50.  50.  22.  11.9 37.6 50.\n",
      " 22.7 20.8 23.5 27.9 50.  19.3 23.9 22.6 15.2 21.7 19.2 43.8 20.3 33.2\n",
      " 19.9 22.5 32.7 22.  17.1 19.  15.  16.1 25.1 23.7 28.7 37.2 22.6 16.4\n",
      " 25.  29.8 22.1 17.4 18.1 30.3 17.5 24.7 12.6 26.5 28.7 13.3 10.4 24.4\n",
      " 23.  20.  17.8  7.  11.8 24.4 13.8 19.4 25.2 19.4 19.4 29.1]\n"
     ]
    }
   ],
   "source": [
    "print(train_data.shape)\n",
    "print(test_data.shape)\n",
    "\n",
    "print(train_targets)"
   ]
  },
  {
   "cell_type": "markdown",
   "id": "c03a6e8a-62f5-461a-8060-3cea22356538",
   "metadata": {},
   "source": [
    "Each of the 13 features, though numerical, take values in a different range. This is problematic.\n",
    "\n",
    "To mitigate this, we can do feature-wise scaling/normalisation (i.e. \"standardisation\"):\n",
    "\n",
    "$\\frac{X_{j} - mean(X_{j})}{std(X_{j})}$ for each feature $j$.\n",
    "\n",
    "This results in each feature vector/column having a mean of zero, and a standard deviation of 1"
   ]
  },
  {
   "cell_type": "code",
   "execution_count": 192,
   "id": "bc7df58a-916e-4af9-bc79-188f0f8b7fcb",
   "metadata": {},
   "outputs": [],
   "source": [
    "mean = train_data.mean(axis=0)\n",
    "train_data -= mean\n",
    "std = train_data.std(axis=0)\n",
    "train_data /= std\n",
    "\n",
    "# Normalisation of the test_data is done using training data. Don't use the test data, even for normalisation\n",
    "test_data -= mean\n",
    "test_data /= std"
   ]
  },
  {
   "cell_type": "markdown",
   "id": "8350b04d-4ae5-43d3-ba51-b3dc69a914e3",
   "metadata": {},
   "source": [
    "The next cell shows some scratch work that perform standardisation to scale some values to have a mean of 0, and a standard deviation of 1."
   ]
  },
  {
   "cell_type": "code",
   "execution_count": 193,
   "id": "62cd59f5-68dd-4bb3-b1b7-773ae1bb0d69",
   "metadata": {},
   "outputs": [
    {
     "name": "stdout",
     "output_type": "stream",
     "text": [
      "4.0\n",
      "2.6457513110645907\n",
      "[-0.75592895  0.37796447  0.37796447 -0.37796447  2.26778684 -0.75592895\n",
      " -1.13389342  0.        ]\n",
      "1.3877787807814457e-17\n",
      "1.0\n"
     ]
    }
   ],
   "source": [
    "A = np.array([2, 5, 5, 3, 10, 2 ,1, 4])\n",
    "mu = np.mean(A)\n",
    "print(mu)\n",
    "\n",
    "std = np.std(A)\n",
    "print(std)\n",
    "\n",
    "B = (A - mu) / std\n",
    "print(B)\n",
    "print(np.mean(B))\n",
    "print(np.std(B))"
   ]
  },
  {
   "cell_type": "markdown",
   "id": "75464ab2-4788-4b6f-97a2-a35a6b5412ef",
   "metadata": {},
   "source": [
    "## 4.3.3"
   ]
  },
  {
   "cell_type": "code",
   "execution_count": 195,
   "id": "ff94e479-2a1a-4041-9444-8890e9b27a76",
   "metadata": {},
   "outputs": [],
   "source": [
    "# We will be instantiating multiple models later on, within k-fold cross validation so we define the model as a function\n",
    "def build_model():\n",
    "    model = keras.Sequential([\n",
    "        layers.Dense(units=64, activation=\"relu\"),\n",
    "        layers.Dense(units=64, activation=\"relu\"),\n",
    "        layers.Dense(units=1)\n",
    "    ])\n",
    "    model.compile(optimizer=\"rmsprop\",\n",
    "                  loss=\"mse\",\n",
    "                  metrics=[\"mae\"])\n",
    "    return model"
   ]
  },
  {
   "cell_type": "markdown",
   "id": "322f021e-3269-47cb-85fc-771aea968ca7",
   "metadata": {},
   "source": [
    "The output layer does not have an activation function. That is, it is a linear layer. This is typical for scalar regression because it allows us the final layer to output a single continuous value.\n",
    "\n",
    "Had we used an activation in the output layer, say `sigmoid`, then the final output would be restricted to the range 0 to 1.\n",
    "\n",
    "MSE is a good loss for regression tasks\n",
    "\n",
    "MAE is a useful metric. An MAE of 0.5 here tells us that the predictions are off by $500 on average"
   ]
  },
  {
   "cell_type": "markdown",
   "id": "3c8bc7a5-5ee7-467f-93d6-9c717e359450",
   "metadata": {},
   "source": [
    "## 4.3.4"
   ]
  },
  {
   "cell_type": "markdown",
   "id": "29e38916-0cbf-48e3-8780-a53cc691ac49",
   "metadata": {},
   "source": [
    "We now want to perform validation on our data. However, because our dataset is rather small instead of splitting into distinct training and validation sets, we will perform $k$-fold cross validation instead.\n",
    "\n",
    "This involves splitting the training set into $k$-partitions or \"blocks\". Then each iteration, the $k$-th partition will be used as the validation set, whilst the remaining will be used as training set."
   ]
  },
  {
   "cell_type": "code",
   "execution_count": 202,
   "id": "1eea4a9a-4ed8-4ed2-9711-513f4f9a50d1",
   "metadata": {},
   "outputs": [],
   "source": [
    "k = 4\n",
    "num_val_samples = len(train_data) // k"
   ]
  },
  {
   "cell_type": "code",
   "execution_count": 203,
   "id": "f339ca11-e177-4f2b-b198-4753c91a63b6",
   "metadata": {},
   "outputs": [
    {
     "name": "stdout",
     "output_type": "stream",
     "text": [
      "Processing fold #0\n",
      "Processing fold #1\n",
      "Processing fold #2\n",
      "Processing fold #3\n",
      "[1.9357469081878662, 2.372037172317505, 2.6895246505737305, 2.3401482105255127]\n",
      "2.3343642354011536\n"
     ]
    }
   ],
   "source": [
    "num_epochs = 100\n",
    "all_scores = []\n",
    "\n",
    "for i in range(k):\n",
    "    print(f\"Processing fold #{i}\")\n",
    "    val_data = train_data[i * num_val_samples : (i + 1) * num_val_samples]\n",
    "    val_targets = train_targets[i * num_val_samples : (i + 1) * num_val_samples]\n",
    "    \n",
    "    partial_train_data = np.concatenate([\n",
    "        train_data[:i * num_val_samples],\n",
    "        train_data[(i + 1) * num_val_samples:],\n",
    "    ], axis=0)\n",
    "    partial_train_targets = np.concatenate([\n",
    "        train_targets[:i * num_val_samples],\n",
    "        train_targets[(i + 1) * num_val_samples:],\n",
    "    ], axis=0)\n",
    "    \n",
    "    model = build_model()\n",
    "    model.fit(partial_train_data, partial_train_targets, epochs=num_epochs, batch_size=16, verbose=0)\n",
    "    val_mse, val_mae = model.evaluate(val_data, val_targets, verbose=0)\n",
    "    \n",
    "    all_scores.append(val_mae)\n",
    "\n",
    "print(all_scores)\n",
    "print(np.mean(all_scores))"
   ]
  },
  {
   "cell_type": "markdown",
   "id": "850c7afb-d0ea-48c2-805c-ca2eb7ed1c21",
   "metadata": {},
   "source": [
    "Let's try training the model for 500 epochs"
   ]
  },
  {
   "cell_type": "code",
   "execution_count": 208,
   "id": "926ad9ca-3d3d-4f9c-9b56-5e1ac850885e",
   "metadata": {},
   "outputs": [
    {
     "name": "stdout",
     "output_type": "stream",
     "text": [
      "Processing fold #0\n",
      "Processing fold #1\n",
      "Processing fold #2\n",
      "Processing fold #3\n"
     ]
    }
   ],
   "source": [
    "num_epochs = 500\n",
    "all_mae_histories = []\n",
    "\n",
    "for i in range(k):\n",
    "    print(f\"Processing fold #{i}\")\n",
    "    val_data = train_data[i * num_val_samples : (i + 1) * num_val_samples]\n",
    "    val_targets = train_targets[i * num_val_samples : (i + 1) * num_val_samples]\n",
    "    \n",
    "    partial_train_data = np.concatenate([\n",
    "        train_data[:i * num_val_samples],\n",
    "        train_data[(i + 1) * num_val_samples:],\n",
    "    ], axis=0)\n",
    "    partial_train_targets = np.concatenate([\n",
    "        train_targets[:i * num_val_samples],\n",
    "        train_targets[(i + 1) * num_val_samples:],\n",
    "    ], axis=0)\n",
    "    \n",
    "    model = build_model()\n",
    "    history = model.fit(partial_train_data, partial_train_targets, validation_data=(val_data, val_targets),\n",
    "                        epochs=num_epochs, batch_size=16, verbose=0)\n",
    "    mae_history = history.history[\"val_mae\"]\n",
    "    \n",
    "    all_mae_histories.append(mae_history)"
   ]
  },
  {
   "cell_type": "code",
   "execution_count": 209,
   "id": "76fd1070-24fe-4b68-a386-f7741a37e0e1",
   "metadata": {},
   "outputs": [],
   "source": [
    "average_mae_history = [np.mean([x[i] for x in all_mae_histories]) for i in range(num_epochs)]"
   ]
  },
  {
   "cell_type": "code",
   "execution_count": 211,
   "id": "a9504ec6-becb-4a6e-91d8-fa1eaf84cc83",
   "metadata": {},
   "outputs": [
    {
     "data": {
      "image/png": "[encoded data removed]",
      "text/plain": [
       "<Figure size 640x480 with 1 Axes>"
      ]
     },
     "metadata": {},
     "output_type": "display_data"
    }
   ],
   "source": [
    "plt.plot(range(1, len(average_mae_history) + 1), average_mae_history)\n",
    "plt.xlabel(\"Epochs\")\n",
    "plt.ylabel(\"Validation MAE\")\n",
    "plt.show()"
   ]
  },
  {
   "cell_type": "markdown",
   "id": "55fd091e-6319-4f45-8861-96c9c9acf2cb",
   "metadata": {},
   "source": [
    "The scaling of the graph is a little blown out by the first few points. Let's fix this:"
   ]
  },
  {
   "cell_type": "code",
   "execution_count": 212,
   "id": "2a5c7087-a594-403e-ac1c-7f56ff71ac3e",
   "metadata": {},
   "outputs": [
    {
     "data": {
      "image/png": "[encoded data removed]",
      "text/plain": [
       "<Figure size 640x480 with 1 Axes>"
      ]
     },
     "metadata": {},
     "output_type": "display_data"
    }
   ],
   "source": [
    "truncated_mae_history = average_mae_history[10:]\n",
    "plt.plot(range(1, len(truncated_mae_history) + 1), truncated_mae_history)\n",
    "plt.xlabel(\"Epochs\")\n",
    "plt.ylabel(\"Validation MAE\")\n",
    "plt.show()"
   ]
  },
  {
   "cell_type": "markdown",
   "id": "592da28d-a253-4c92-952b-927a29f236fe",
   "metadata": {},
   "source": [
    "From this, we can more clearly see that overfitting appears to start occuring from around 120 epochs. Let's now train our final model:"
   ]
  },
  {
   "cell_type": "code",
   "execution_count": 217,
   "id": "03a40aa9-2094-4255-acdd-3ff5433c00ec",
   "metadata": {},
   "outputs": [],
   "source": [
    "model = build_model()\n",
    "history = model.fit(train_data, train_targets, epochs=130, batch_size=16, verbose=0)"
   ]
  },
  {
   "cell_type": "code",
   "execution_count": 218,
   "id": "f3a92bf6-e4d7-4d6b-8130-a5d550f53546",
   "metadata": {},
   "outputs": [
    {
     "name": "stdout",
     "output_type": "stream",
     "text": [
      "4/4 [==============================] - 0s 818us/step - loss: 14.6426 - mae: 2.5038\n",
      "2.503829002380371\n"
     ]
    }
   ],
   "source": [
    "test_mse_score, test_mae_score = model.evaluate(test_data, test_targets)\n",
    "\n",
    "print(test_mae_score)"
   ]
  },
  {
   "cell_type": "markdown",
   "id": "a8588e7c-11dc-44c7-9284-f74eca37011c",
   "metadata": {},
   "source": [
    "## 4.3.5"
   ]
  },
  {
   "cell_type": "code",
   "execution_count": 219,
   "id": "6ba49c06-2f47-4baa-9341-188df8d1d27d",
   "metadata": {},
   "outputs": [
    {
     "name": "stdout",
     "output_type": "stream",
     "text": [
      "4/4 [==============================] - 0s 947us/step\n",
      "[8.492648]\n"
     ]
    }
   ],
   "source": [
    "predictions = model.predict(test_data)\n",
    "print(predictions[0])"
   ]
  }
 ],
 "metadata": {
  "kernelspec": {
   "display_name": "Python 3 (ipykernel)",
   "language": "python",
   "name": "python3"
  },
  "language_info": {
   "codemirror_mode": {
    "name": "ipython",
    "version": 3
   },
   "file_extension": ".py",
   "mimetype": "text/x-python",
   "name": "python",
   "nbconvert_exporter": "python",
   "pygments_lexer": "ipython3",
   "version": "3.9.13"
  }
 },
 "nbformat": 4,
 "nbformat_minor": 5
}
