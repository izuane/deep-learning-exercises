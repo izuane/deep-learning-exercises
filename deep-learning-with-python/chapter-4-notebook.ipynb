{
 "cells": [
  {
   "cell_type": "code",
   "execution_count": 36,
   "id": "40eba13b-9527-4388-91df-5e35d767640d",
   "metadata": {},
   "outputs": [],
   "source": [
    "from tensorflow.keras.datasets import imdb\n",
    "import numpy as np\n",
    "from tensorflow import keras\n",
    "from tensorflow.keras import layers\n",
    "import matplotlib.pyplot as plt"
   ]
  },
  {
   "cell_type": "markdown",
   "id": "8cd5249d-1c67-43ee-a0aa-f62324acbd22",
   "metadata": {},
   "source": [
    "# 4.1"
   ]
  },
  {
   "cell_type": "code",
   "execution_count": 6,
   "id": "e042b486-984b-46d2-9a1a-008a98146c0a",
   "metadata": {},
   "outputs": [],
   "source": [
    "(train_data, train_labels), (test_data, test_labels) = imdb.load_data(num_words=10000)"
   ]
  },
  {
   "cell_type": "code",
   "execution_count": 12,
   "id": "f8ff54a3-cf6b-4d27-b928-160fbbf4221a",
   "metadata": {},
   "outputs": [
    {
     "name": "stdout",
     "output_type": "stream",
     "text": [
      "[1, 14, 22, 16, 43, 530, 973, 1622, 1385, 65, 458, 4468, 66, 3941, 4, 173, 36, 256, 5, 25, 100, 43, 838, 112, 50, 670, 2, 9, 35, 480, 284, 5, 150, 4, 172, 112, 167, 2, 336, 385, 39, 4, 172, 4536, 1111, 17, 546, 38, 13, 447, 4, 192, 50, 16, 6, 147, 2025, 19, 14, 22, 4, 1920, 4613, 469, 4, 22, 71, 87, 12, 16, 43, 530, 38, 76, 15, 13, 1247, 4, 22, 17, 515, 17, 12, 16, 626, 18, 2, 5, 62, 386, 12, 8, 316, 8, 106, 5, 4, 2223, 5244, 16, 480, 66, 3785, 33, 4, 130, 12, 16, 38, 619, 5, 25, 124, 51, 36, 135, 48, 25, 1415, 33, 6, 22, 12, 215, 28, 77, 52, 5, 14, 407, 16, 82, 2, 8, 4, 107, 117, 5952, 15, 256, 4, 2, 7, 3766, 5, 723, 36, 71, 43, 530, 476, 26, 400, 317, 46, 7, 4, 2, 1029, 13, 104, 88, 4, 381, 15, 297, 98, 32, 2071, 56, 26, 141, 6, 194, 7486, 18, 4, 226, 22, 21, 134, 476, 26, 480, 5, 144, 30, 5535, 18, 51, 36, 28, 224, 92, 25, 104, 4, 226, 65, 16, 38, 1334, 88, 12, 16, 283, 5, 16, 4472, 113, 103, 32, 15, 16, 5345, 19, 178, 32]\n",
      "1\n"
     ]
    },
    {
     "data": {
      "text/plain": [
       "9999"
      ]
     },
     "execution_count": 12,
     "metadata": {},
     "output_type": "execute_result"
    }
   ],
   "source": [
    "# A review, where each word has been encoded as an integer\n",
    "print(train_data[0])\n",
    "\n",
    "# Whether a particular review is \"positive\" (i.e. 1) or \"negative\" (i.e. 0)\n",
    "print(train_labels[0])\n",
    "\n",
    "# No review will exceed 10,000 words because we specified this with num_words=10000 in previous cell\n",
    "max([max(review) for review in train_data])"
   ]
  },
  {
   "cell_type": "markdown",
   "id": "aed5e2f2-f12a-43e7-b953-fe1e7e8a6b47",
   "metadata": {},
   "source": [
    "## 4.1.2"
   ]
  },
  {
   "cell_type": "code",
   "execution_count": 14,
   "id": "beb6696e-ed90-4cbd-b50b-ec4adbe4fcbe",
   "metadata": {},
   "outputs": [],
   "source": [
    "# dictionary mapping words to integer index\n",
    "word_index = imdb.get_word_index()"
   ]
  },
  {
   "cell_type": "code",
   "execution_count": 19,
   "id": "d217aeb3-db51-4997-9e75-1ab71fdca91c",
   "metadata": {},
   "outputs": [
    {
     "name": "stdout",
     "output_type": "stream",
     "text": [
      "? this film was just brilliant casting location scenery story direction everyone's really suited the part they played and you could just imagine being there robert ? is an amazing actor and now the same being director ? father came from the same scottish island as myself so i loved the fact there was a real connection with this film the witty remarks throughout the film were great it was just brilliant so much that i bought the film as soon as it was released for ? and would recommend it to everyone to watch and the fly fishing was amazing really cried at the end it was so sad and you know what they say if you cry at a film it must have been good and this definitely was also ? to the two little boy's that played the ? of norman and paul they were just brilliant children are often left out of the ? list i think because the stars that play them all grown up are such a big profile for the whole film but these children are amazing and should be praised for what they have done don't you think the whole story was so lovely because it was true and was someone's life after all that was shared with us all\n"
     ]
    }
   ],
   "source": [
    "# dictionary mapping integers to words\n",
    "reverse_word_index = dict([(value, key) for (key, value) in word_index.items()])\n",
    "\n",
    "# Offset by 3 because 0, 1, 2 are reserved for \"padding\", \"start of sequence\" and \"unknown\"\n",
    "decoded_review = \" \".join([reverse_word_index.get(i - 3, \"?\") for i in train_data[0]])\n",
    "print(decoded_review)"
   ]
  },
  {
   "cell_type": "markdown",
   "id": "8bd41afe-f487-4c2a-b407-91bb319cfb1a",
   "metadata": {},
   "source": [
    "Vectorising the data use multi-hot encoding"
   ]
  },
  {
   "cell_type": "code",
   "execution_count": 26,
   "id": "d1bbf549-4faf-4684-b3cd-b010adc06d06",
   "metadata": {},
   "outputs": [
    {
     "name": "stdout",
     "output_type": "stream",
     "text": [
      "[0. 1. 1. ... 0. 0. 0.]\n",
      "1\n",
      "1.0\n"
     ]
    }
   ],
   "source": [
    "def vectorise_sequences(sequences, dimension=10000):\n",
    "    results = np.zeros((len(sequences), dimension))\n",
    "    for i, sequence in enumerate(sequences):\n",
    "        for j in sequence:\n",
    "            results[i, j] = 1\n",
    "    return results\n",
    "\n",
    "x_train = vectorise_sequences(train_data)\n",
    "x_test = vectorise_sequences(test_data)\n",
    "\n",
    "print(x_train[0])\n",
    "\n",
    "# Also vectorise the labels. Easy since they're already 0 or 1\n",
    "y_train = np.asarray(train_labels).astype(\"float32\")\n",
    "print(train_labels[0])\n",
    "print(y_train[0])\n",
    "\n",
    "y_test = np.asarray(test_labels).astype(\"float32\")"
   ]
  },
  {
   "cell_type": "markdown",
   "id": "0888ce27-fb21-41d1-97b8-7b906aa101bb",
   "metadata": {},
   "source": [
    "## 4.1.3"
   ]
  },
  {
   "cell_type": "markdown",
   "id": "d563387b-0b9c-42e9-ab91-aae30833ffc5",
   "metadata": {},
   "source": [
    "* Our input data are vectors\n",
    "* Our outputs are scalar labels (1s and 0s)\n",
    "\n",
    "A fully-connected (or `Dense`ly connected) network of layers with `relu` activations will work well here.\n",
    "\n",
    "We now need to decide:\n",
    "* How many layers to use. We will use 2 \"hidden\" or intermediate layers\n",
    "* How many units to choose for each layer. We will use 16 units in each hidden layer, and 1 output unit"
   ]
  },
  {
   "cell_type": "code",
   "execution_count": 30,
   "id": "fa3f1e44-045a-4a94-af27-c0f6c7e9f35a",
   "metadata": {},
   "outputs": [],
   "source": [
    "model = keras.Sequential([\n",
    "    layers.Dense(units=16, activation=\"relu\"),\n",
    "    layers.Dense(units=16, activation=\"relu\"),\n",
    "    layers.Dense(units=1, activation=\"sigmoid\")\n",
    "])"
   ]
  },
  {
   "cell_type": "markdown",
   "id": "4702fad0-de53-4246-8eab-c43e22c23064",
   "metadata": {},
   "source": [
    "* Having 16 units in first hidden layers, means that the weight matrix $W$ will have shape `(input_dimension, 16)`\n",
    "* The dot product with $W$ will project the input data onto a 16-dimensional representation space, before the bias vector `b` is added and `relu` is applied.\n",
    "* More units means a higher dimensional representation space. In general, this allows the model to learn more complex representations.\n",
    "* The sigmoid function in the final layers enables the network to output a probability. In this case, how likely a sample is to have the target \"1\": i.e. how likely a review is to be positive.\n",
    "\n",
    "A few more modelling decisions:\n",
    "* Loss: we will use the `binary_crossentropy` loss. This is usually the best choice when dealing with models that output probabilities\n",
    "* Crossentropy: This comes from information theory and measures the distance between probability distributions. In our case, it measures the distance between our ground-truth distribution and our predictions"
   ]
  },
  {
   "cell_type": "code",
   "execution_count": 31,
   "id": "af2acc9e-631d-4f39-92bc-a6baf742fe22",
   "metadata": {},
   "outputs": [],
   "source": [
    "model.compile(optimizer=\"rmsprop\",\n",
    "              loss=\"binary_crossentropy\",\n",
    "              metrics=[\"accuracy\"])"
   ]
  },
  {
   "cell_type": "markdown",
   "id": "83fc77ef-4ce9-4aaa-8ea4-153ceafdfc7a",
   "metadata": {},
   "source": [
    "## 4.1.4"
   ]
  },
  {
   "cell_type": "code",
   "execution_count": 34,
   "id": "51b94c08-32c4-47ae-8075-5aa13f313a3f",
   "metadata": {},
   "outputs": [],
   "source": [
    "x_val = x_train[:10000]\n",
    "partial_x_train = x_train[10000:]\n",
    "y_val = y_train[:10000]\n",
    "partial_y_train = y_train[10000:]"
   ]
  },
  {
   "cell_type": "code",
   "execution_count": 35,
   "id": "9dc7526d-3da8-4215-b743-942997962c60",
   "metadata": {},
   "outputs": [
    {
     "name": "stdout",
     "output_type": "stream",
     "text": [
      "Epoch 1/20\n"
     ]
    },
    {
     "name": "stderr",
     "output_type": "stream",
     "text": [
      "2023-01-22 17:04:41.204617: W tensorflow/core/platform/profile_utils/cpu_utils.cc:128] Failed to get CPU frequency: 0 Hz\n"
     ]
    },
    {
     "name": "stdout",
     "output_type": "stream",
     "text": [
      "30/30 [==============================] - 2s 29ms/step - loss: 0.5133 - accuracy: 0.7995 - val_loss: 0.3954 - val_accuracy: 0.8611\n",
      "Epoch 2/20\n",
      "30/30 [==============================] - 0s 7ms/step - loss: 0.3115 - accuracy: 0.9023 - val_loss: 0.3079 - val_accuracy: 0.8857\n",
      "Epoch 3/20\n",
      "30/30 [==============================] - 0s 7ms/step - loss: 0.2273 - accuracy: 0.9259 - val_loss: 0.2873 - val_accuracy: 0.8854\n",
      "Epoch 4/20\n",
      "30/30 [==============================] - 0s 6ms/step - loss: 0.1797 - accuracy: 0.9420 - val_loss: 0.2751 - val_accuracy: 0.8894\n",
      "Epoch 5/20\n",
      "30/30 [==============================] - 0s 7ms/step - loss: 0.1425 - accuracy: 0.9553 - val_loss: 0.2950 - val_accuracy: 0.8848\n",
      "Epoch 6/20\n",
      "30/30 [==============================] - 0s 7ms/step - loss: 0.1195 - accuracy: 0.9630 - val_loss: 0.2954 - val_accuracy: 0.8834\n",
      "Epoch 7/20\n",
      "30/30 [==============================] - 0s 7ms/step - loss: 0.0991 - accuracy: 0.9706 - val_loss: 0.3226 - val_accuracy: 0.8792\n",
      "Epoch 8/20\n",
      "30/30 [==============================] - 0s 7ms/step - loss: 0.0789 - accuracy: 0.9783 - val_loss: 0.3353 - val_accuracy: 0.8826\n",
      "Epoch 9/20\n",
      "30/30 [==============================] - 0s 7ms/step - loss: 0.0677 - accuracy: 0.9813 - val_loss: 0.3510 - val_accuracy: 0.8811\n",
      "Epoch 10/20\n",
      "30/30 [==============================] - 0s 7ms/step - loss: 0.0552 - accuracy: 0.9858 - val_loss: 0.3813 - val_accuracy: 0.8801\n",
      "Epoch 11/20\n",
      "30/30 [==============================] - 0s 7ms/step - loss: 0.0450 - accuracy: 0.9893 - val_loss: 0.4103 - val_accuracy: 0.8753\n",
      "Epoch 12/20\n",
      "30/30 [==============================] - 0s 7ms/step - loss: 0.0370 - accuracy: 0.9914 - val_loss: 0.4485 - val_accuracy: 0.8703\n",
      "Epoch 13/20\n",
      "30/30 [==============================] - 0s 7ms/step - loss: 0.0293 - accuracy: 0.9943 - val_loss: 0.4712 - val_accuracy: 0.8750\n",
      "Epoch 14/20\n",
      "30/30 [==============================] - 0s 6ms/step - loss: 0.0226 - accuracy: 0.9959 - val_loss: 0.5061 - val_accuracy: 0.8712\n",
      "Epoch 15/20\n",
      "30/30 [==============================] - 0s 6ms/step - loss: 0.0175 - accuracy: 0.9981 - val_loss: 0.5463 - val_accuracy: 0.8683\n",
      "Epoch 16/20\n",
      "30/30 [==============================] - 0s 7ms/step - loss: 0.0151 - accuracy: 0.9977 - val_loss: 0.5750 - val_accuracy: 0.8709\n",
      "Epoch 17/20\n",
      "30/30 [==============================] - 0s 7ms/step - loss: 0.0148 - accuracy: 0.9967 - val_loss: 0.6050 - val_accuracy: 0.8688\n",
      "Epoch 18/20\n",
      "30/30 [==============================] - 0s 7ms/step - loss: 0.0066 - accuracy: 0.9997 - val_loss: 0.6480 - val_accuracy: 0.8666\n",
      "Epoch 19/20\n",
      "30/30 [==============================] - 0s 7ms/step - loss: 0.0074 - accuracy: 0.9993 - val_loss: 0.6723 - val_accuracy: 0.8673\n",
      "Epoch 20/20\n",
      "30/30 [==============================] - 0s 7ms/step - loss: 0.0084 - accuracy: 0.9987 - val_loss: 0.7091 - val_accuracy: 0.8649\n"
     ]
    }
   ],
   "source": [
    "history = model.fit(partial_x_train,\n",
    "                    partial_y_train,\n",
    "                    epochs=20,\n",
    "                    batch_size=512,\n",
    "                    validation_data=(x_val, y_val))"
   ]
  },
  {
   "cell_type": "code",
   "execution_count": 38,
   "id": "bac7bbac-e74f-4ccd-9b72-826b2c4e473f",
   "metadata": {},
   "outputs": [
    {
     "data": {
      "image/png": "[encoded data removed]",
      "text/plain": [
       "<Figure size 640x480 with 1 Axes>"
      ]
     },
     "metadata": {},
     "output_type": "display_data"
    }
   ],
   "source": [
    "history_dict = history.history\n",
    "\n",
    "loss_values = history_dict[\"loss\"]\n",
    "val_loss_values = history_dict[\"val_loss\"]\n",
    "epochs = range(1, len(loss_values) + 1)\n",
    "plt.plot(epochs, loss_values, \"bo\", label=\"Training loss\")\n",
    "plt.plot(epochs, val_loss_values, \"b\", label=\"Validation loss\")\n",
    "plt.title(\"Training and validation loss\")\n",
    "plt.xlabel(\"Epochs\")\n",
    "plt.ylabel(\"Loss\")\n",
    "plt.legend()\n",
    "plt.show()"
   ]
  },
  {
   "cell_type": "code",
   "execution_count": 39,
   "id": "5228a38f-0ee2-4aa2-8a99-9890ef60ae69",
   "metadata": {},
   "outputs": [
    {
     "data": {
      "image/png": "[encoded data removed]",
      "text/plain": [
       "<Figure size 640x480 with 1 Axes>"
      ]
     },
     "metadata": {},
     "output_type": "display_data"
    }
   ],
   "source": [
    "plt.clf()\n",
    "acc = history_dict[\"accuracy\"]\n",
    "val_acc = history_dict[\"val_accuracy\"]\n",
    "plt.plot(epochs, acc, \"bo\", label=\"Training acc\")\n",
    "plt.plot(epochs, val_acc, \"b\", label=\"Validation acc\")\n",
    "plt.title(\"Training and validation accuracy\")\n",
    "plt.xlabel(\"Epochs\")\n",
    "plt.ylabel(\"Accuracy\")\n",
    "plt.legend()\n",
    "plt.show()"
   ]
  },
  {
   "cell_type": "markdown",
   "id": "f076822a-789a-4cd8-b029-33c712e1ef6c",
   "metadata": {},
   "source": [
    "Train and test a new model from scratch"
   ]
  },
  {
   "cell_type": "code",
   "execution_count": 46,
   "id": "c3a00616-fc34-48e3-8b5b-b73e1e1786ce",
   "metadata": {},
   "outputs": [
    {
     "name": "stdout",
     "output_type": "stream",
     "text": [
      "Epoch 1/4\n",
      "49/49 [==============================] - 1s 6ms/step - loss: 0.4633 - accuracy: 0.8160\n",
      "Epoch 2/4\n",
      "49/49 [==============================] - 0s 5ms/step - loss: 0.2614 - accuracy: 0.9088\n",
      "Epoch 3/4\n",
      "49/49 [==============================] - 0s 5ms/step - loss: 0.2004 - accuracy: 0.9283\n",
      "Epoch 4/4\n",
      "49/49 [==============================] - 0s 5ms/step - loss: 0.1644 - accuracy: 0.9424\n"
     ]
    },
    {
     "data": {
      "text/plain": [
       "<keras.callbacks.History at 0x16603b2e0>"
      ]
     },
     "execution_count": 46,
     "metadata": {},
     "output_type": "execute_result"
    }
   ],
   "source": [
    "model = keras.Sequential([\n",
    "    layers.Dense(units=16, activation=\"relu\"),\n",
    "    layers.Dense(units=16, activation=\"relu\"),\n",
    "    layers.Dense(units=1, activation=\"sigmoid\")\n",
    "])\n",
    "\n",
    "model.compile(optimizer=\"rmsprop\",\n",
    "              loss=\"binary_crossentropy\",\n",
    "              metrics=[\"accuracy\"])\n",
    "\n",
    "model.fit(x_train, y_train, epochs=4, batch_size=512)"
   ]
  },
  {
   "cell_type": "code",
   "execution_count": 47,
   "id": "e919c8ef-6274-48d6-865d-bf61be8fb0bc",
   "metadata": {},
   "outputs": [
    {
     "name": "stdout",
     "output_type": "stream",
     "text": [
      "782/782 [==============================] - 1s 618us/step - loss: 0.3113 - accuracy: 0.8766\n"
     ]
    }
   ],
   "source": [
    "results = model.evaluate(x_test, y_test)"
   ]
  },
  {
   "cell_type": "markdown",
   "id": "129f0c80-f9eb-4948-9c92-3388c6cc8bc1",
   "metadata": {},
   "source": [
    "## 4.1.5"
   ]
  },
  {
   "cell_type": "code",
   "execution_count": 48,
   "id": "5ab28f0c-caef-4eb1-9b42-70e39497a656",
   "metadata": {},
   "outputs": [
    {
     "name": "stdout",
     "output_type": "stream",
     "text": [
      "782/782 [==============================] - 1s 607us/step\n",
      "[[0.16889317]\n",
      " [0.9998396 ]\n",
      " [0.89054143]\n",
      " ...\n",
      " [0.11740097]\n",
      " [0.05935653]\n",
      " [0.47478268]]\n"
     ]
    }
   ],
   "source": [
    "# This outputs probability that each review is positive (close to 1) or negative (close to 0)\n",
    "predictions = model.predict(x_test)\n",
    "print(predictions)"
   ]
  },
  {
   "cell_type": "markdown",
   "id": "7a2722e2-a3d3-493d-aa24-ce7a2b02491c",
   "metadata": {},
   "source": [
    "# 4.2"
   ]
  },
  {
   "cell_type": "code",
   "execution_count": null,
   "id": "49827543-0507-4846-a774-1e95391da1ff",
   "metadata": {},
   "outputs": [],
   "source": []
  }
 ],
 "metadata": {
  "kernelspec": {
   "display_name": "Python 3 (ipykernel)",
   "language": "python",
   "name": "python3"
  },
  "language_info": {
   "codemirror_mode": {
    "name": "ipython",
    "version": 3
   },
   "file_extension": ".py",
   "mimetype": "text/x-python",
   "name": "python",
   "nbconvert_exporter": "python",
   "pygments_lexer": "ipython3",
   "version": "3.9.13"
  }
 },
 "nbformat": 4,
 "nbformat_minor": 5
}
